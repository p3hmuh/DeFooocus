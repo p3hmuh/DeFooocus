{
  "nbformat": 4,
  "nbformat_minor": 0,
  "metadata": {
    "colab": {
      "provenance": [],
      "toc_visible": true,
      "authorship_tag": "ABX9TyMt1jJtWe6GDBAgQ4vTf2/p",
      "include_colab_link": true
    },
    "kernelspec": {
      "name": "python3",
      "display_name": "Python 3"
    },
    "language_info": {
      "name": "python"
    }
  },
  "cells": [
    {
      "cell_type": "markdown",
      "metadata": {
        "id": "view-in-github",
        "colab_type": "text"
      },
      "source": [
        "<a href=\"https://colab.research.google.com/github/p3hmuh/DeFooocus/blob/main/DeFooocus_colab.ipynb\" target=\"_parent\"><img src=\"https://colab.research.google.com/assets/colab-badge.svg\" alt=\"Open In Colab\"/></a>"
      ]
    },
    {
      "cell_type": "code",
      "execution_count": null,
      "metadata": {
        "id": "KQ9_x7IGgJk0"
      },
      "outputs": [],
      "source": [
        "# @title 🚀 DeFooocus Installation\n",
        "# @markdown Run this cell to install DeFooocus\n",
        "\n",
        "print(\"Installing DeFooocus...\")\n",
        "\n",
        "# Check GPU\n",
        "!nvidia-smi\n",
        "\n",
        "# Clone repository\n",
        "!git clone https://github.com/p3hmuh/DeFooocus\n",
        "%cd DeFooocus\n",
        "\n",
        "# Install dependencies\n",
        "!pip install torch==2.0.1+cu118 torchvision==0.15.2+cu118 torchaudio==2.0.2 --index-url https://download.pytorch.org/whl/cu118\n",
        "!pip install -q xformers==0.0.20 triton==2.0.0\n",
        "!pip install -r requirements.txt\n",
        "\n",
        "# Download required models\n",
        "!mkdir -p models/checkpoints\n",
        "!wget -q https://huggingface.co/stabilityai/stable-diffusion-xl-base-1.0/resolve/main/sd_xl_base_1.0.safetensors -O models/checkpoints/sd_xl_base_1.0.safetensors\n",
        "!wget -q https://huggingface.co/stabilityai/stable-diffusion-xl-refiner-1.0/resolve/main/sd_xl_refiner_1.0.safetensors -O models/checkpoints/sd_xl_refiner_1.0.safetensors\n",
        "\n",
        "# @title 🎨 Launch DeFooocus\n",
        "# @markdown Click play button to start DeFooocus\n",
        "\n",
        "print(\"Starting DeFooocus...\")\n",
        "\n",
        "!python launch.py --share\n",
        "\n",
        "# @title 📥 Download Generated Images\n",
        "# @markdown Run this cell to download your generated images\n",
        "\n",
        "from google.colab import files\n",
        "!zip -r /content/generated_images.zip /content/DeFooocus/outputs\n",
        "files.download('/content/generated_images.zip')"
      ]
    },
    {
      "cell_type": "markdown",
      "source": [
        "# DeFooocus Colab Guide\n",
        "\n",
        "## Initial Setup\n",
        "1. Pastikan runtime type diset ke GPU:\n",
        "   - Klik Runtime > Change runtime type\n",
        "   - Pilih GPU di Hardware accelerator\n",
        "   - Klik Save\n",
        "\n",
        "## Installation (Cell 1)\n",
        "1. Klik tombol play pada cell pertama\n",
        "2. Tunggu hingga proses instalasi selesai\n",
        "3. Pastikan tidak ada error\n",
        "\n",
        "## Launch Application (Cell 2)\n",
        "1. Setelah instalasi selesai, klik tombol play pada cell kedua\n",
        "2. Tunggu hingga muncul link gradio\n",
        "3. Klik link tersebut untuk membuka interface\n",
        "\n",
        "## Using DeFooocus\n",
        "1. Di interface web:\n",
        "   - Masukkan prompt yang diinginkan\n",
        "   - Atur parameter sesuai kebutuhan\n",
        "   - Klik Generate untuk membuat gambar\n",
        "\n",
        "2. Menyimpan hasil:\n",
        "   - Jalankan cell \"Download Generated Images\"\n",
        "   - File zip akan otomatis terdownload\n",
        "\n",
        "## Troubleshooting\n",
        "\n",
        "### Error CUDA/GPU:\n",
        "1. Pastikan runtime type adalah GPU\n",
        "2. Restart runtime dan jalankan ulang\n",
        "3. Cek kuota Colab GPU Anda\n",
        "\n",
        "### Link Tidak Muncul:\n",
        "1. Cek koneksi internet\n",
        "2. Restart runtime\n",
        "3. Jalankan ulang dari awal\n",
        "\n",
        "### Generated Images Hilang:\n",
        "1. Selalu download hasil segera\n",
        "2. Gunakan cell download sebelum sesi berakhir\n",
        "3. Simpan link hasil di tempat aman"
      ],
      "metadata": {
        "id": "PflaD6OXhsMn"
      }
    }
  ]
}